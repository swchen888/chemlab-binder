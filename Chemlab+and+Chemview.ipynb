{
 "cells": [
  {
   "cell_type": "markdown",
   "metadata": {
    "deletable": true,
    "editable": true
   },
   "source": [
    "Examples from http://nbviewer.jupyter.org/github/chemlab/chemlab/blob/master/examples/New%20IPython%20support.ipynb"
   ]
  },
  {
   "cell_type": "code",
   "execution_count": 1,
   "metadata": {
    "collapsed": true,
    "deletable": true,
    "editable": true
   },
   "outputs": [],
   "source": [
    "from chemview import MolecularViewer"
   ]
  },
  {
   "cell_type": "code",
   "execution_count": 2,
   "metadata": {
    "collapsed": true,
    "deletable": true,
    "editable": true
   },
   "outputs": [],
   "source": [
    "import numpy as np"
   ]
  },
  {
   "cell_type": "code",
   "execution_count": 3,
   "metadata": {
    "collapsed": true,
    "deletable": true,
    "editable": true
   },
   "outputs": [],
   "source": [
    "coordinates = np.array([[0.00, 0.13, 0.00], [0.12, 0.07, 0.00], [0.12,-0.07, 0.00],\n",
    "                       [0.00,-0.14, 0.00], [-0.12,-0.07, 0.00],[-0.12, 0.07, 0.00],\n",
    "                       [ 0.00, 0.24, 0.00], [ 0.21, 0.12, 0.00], [ 0.21,-0.12, 0.00],\n",
    "                       [ 0.00,-0.24, 0.00], [-0.21,-0.12, 0.00],[-0.21, 0.12, 0.00]])\n",
    "atomic_types = ['C', 'C', 'C', 'C', 'C', 'C', 'H', 'H', 'H', 'H', 'H', 'H']\n",
    "bonds = [(0, 6), (1, 7), (2, 8), (3, 9), (4, 10), (5, 11),\n",
    "         (0, 1), (1, 2), (2, 3), (3, 4), (4, 5), (5, 0)]"
   ]
  },
  {
   "cell_type": "code",
   "execution_count": 4,
   "metadata": {
    "collapsed": false,
    "deletable": true,
    "editable": true
   },
   "outputs": [
    {
     "name": "stderr",
     "output_type": "stream",
     "text": [
      "/opt/conda/lib/python3.5/site-packages/traitlets/traitlets.py:565: FutureWarning: comparison to `None` will result in an elementwise object comparison in the future.\n",
      "  silent = bool(old_value == new_value)\n"
     ]
    }
   ],
   "source": [
    "mv = MolecularViewer(coordinates, topology={'atom_types': atomic_types,\n",
    "                                            'bonds': bonds})\n",
    "mv.lines()\n",
    "mv"
   ]
  },
  {
   "cell_type": "code",
   "execution_count": 5,
   "metadata": {
    "collapsed": true,
    "deletable": true,
    "editable": true
   },
   "outputs": [],
   "source": [
    "from chemlab.notebook import download_molecule, display_molecule"
   ]
  },
  {
   "cell_type": "code",
   "execution_count": 6,
   "metadata": {
    "collapsed": true,
    "deletable": true,
    "editable": true
   },
   "outputs": [],
   "source": [
    "arg = download_molecule(\"arginine\")"
   ]
  },
  {
   "cell_type": "code",
   "execution_count": 7,
   "metadata": {
    "collapsed": false,
    "deletable": true,
    "editable": true
   },
   "outputs": [
    {
     "data": {
      "text/plain": [
       "<Entity Molecule>\n",
       "  Dimensions: {'atom': 26, 'residue': 0, 'bond': 25}\n",
       "  Attributes:\n",
       "    <Attribute[atom=26] atom_export = [0 0 0 0 0 0 0 0 0 0 0 0 0 0 0 0 0 0 0 0 0 0 0 0 0 0 ...>\n",
       "    <Attribute[atom=26] atom_name = ['' '' '' '' '' '' '' '' '' '' '' '' '' '' '' '' ''  ...>\n",
       "    <Attribute[bond=25] bond_orders = [1 1 1 1 1 1 1 1 2 1 2 1 1 1 1 1 1 1 1 1 1 1 1 1 1]>\n",
       "    <Attribute[atom=26] charge_array = [ 0.  0.  0.  0.  0.  0.  0.  0.  0.  0.  0.  0.  0. ...>\n",
       "    <Attribute[atom=26] r_array = [[  2.30660000e-01   1.78860000e-01  -2.97400000e-02 ...>\n",
       "    <Attribute[residue=0] residue_id = None>\n",
       "    <Attribute[residue=0] residue_name = None>\n",
       "    <Attribute[residue=0] secondary_id = None>\n",
       "    <Attribute[residue=0] secondary_structure = None>\n",
       "    <Attribute[atom=26] type_array = ['N' 'C' 'H' 'C' 'C' 'C' 'N' 'C' 'N' 'N' 'C' 'O' 'O' ...>\n",
       "  Relations:\n",
       "    <Relation[bond=25] bonds = [[ 0  1] [ 1  2] [ 1  3] [ 3  4] [ 4  5] [ 5  6] [ 6 ... {Ix[atom=26]: [ 0  1  2  3  4  5  6  7  8  9 10 11 12 13 14 15 16 17 18 19 20 21 22 23 24\n",
       " 25]}>\n",
       "  Fields:\n",
       "    <Field: molecule_export = 0>\n",
       "    <Field: molecule_name = >"
      ]
     },
     "execution_count": 7,
     "metadata": {},
     "output_type": "execute_result"
    }
   ],
   "source": [
    "arg"
   ]
  },
  {
   "cell_type": "code",
   "execution_count": 8,
   "metadata": {
    "collapsed": false,
    "deletable": true,
    "editable": true
   },
   "outputs": [
    {
     "name": "stderr",
     "output_type": "stream",
     "text": [
      "/opt/conda/lib/python3.5/site-packages/traitlets/traitlets.py:565: FutureWarning: comparison to `None` will result in an elementwise object comparison in the future.\n",
      "  silent = bool(old_value == new_value)\n"
     ]
    }
   ],
   "source": [
    "display_molecule(arg)"
   ]
  },
  {
   "cell_type": "code",
   "execution_count": 9,
   "metadata": {
    "collapsed": true
   },
   "outputs": [],
   "source": [
    "pyrene = download_molecule(\"pyrene\")"
   ]
  },
  {
   "cell_type": "code",
   "execution_count": 10,
   "metadata": {
    "collapsed": false
   },
   "outputs": [
    {
     "data": {
      "text/plain": [
       "<Entity Molecule>\n",
       "  Dimensions: {'atom': 26, 'residue': 0, 'bond': 29}\n",
       "  Attributes:\n",
       "    <Attribute[atom=26] atom_export = [0 0 0 0 0 0 0 0 0 0 0 0 0 0 0 0 0 0 0 0 0 0 0 0 0 0 ...>\n",
       "    <Attribute[atom=26] atom_name = ['' '' '' '' '' '' '' '' '' '' '' '' '' '' '' '' ''  ...>\n",
       "    <Attribute[bond=29] bond_orders = [2 1 2 1 2 1 2 1 2 1 2 1 2 1 1 1 2 1 1 1 1 1 1 1 1 1 ...>\n",
       "    <Attribute[atom=26] charge_array = [ 0.  0.  0.  0.  0.  0.  0.  0.  0.  0.  0.  0.  0. ...>\n",
       "    <Attribute[atom=26] r_array = [[ -2.79060000e-01   1.22210000e-01   1.70000000e-04 ...>\n",
       "    <Attribute[residue=0] residue_id = None>\n",
       "    <Attribute[residue=0] residue_name = None>\n",
       "    <Attribute[residue=0] secondary_id = None>\n",
       "    <Attribute[residue=0] secondary_structure = None>\n",
       "    <Attribute[atom=26] type_array = ['C' 'C' 'C' 'C' 'C' 'C' 'C' 'C' 'C' 'C' 'C' 'C' 'C' ...>\n",
       "  Relations:\n",
       "    <Relation[bond=29] bonds = [[ 0  1] [ 1  2] [ 2  3] [ 3  4] [ 4  5] [ 5  6] [ 6 ... {Ix[atom=26]: [ 0  1  2  3  4  5  6  7  8  9 10 11 12 13 14 15 16 17 18 19 20 21 22 23 24\n",
       " 25]}>\n",
       "  Fields:\n",
       "    <Field: molecule_export = 0>\n",
       "    <Field: molecule_name = >"
      ]
     },
     "execution_count": 10,
     "metadata": {},
     "output_type": "execute_result"
    }
   ],
   "source": [
    "pyrene"
   ]
  },
  {
   "cell_type": "code",
   "execution_count": 11,
   "metadata": {
    "collapsed": false,
    "deletable": true,
    "editable": true
   },
   "outputs": [
    {
     "name": "stderr",
     "output_type": "stream",
     "text": [
      "/opt/conda/lib/python3.5/site-packages/traitlets/traitlets.py:565: FutureWarning: comparison to `None` will result in an elementwise object comparison in the future.\n",
      "  silent = bool(old_value == new_value)\n"
     ]
    }
   ],
   "source": [
    "display_molecule(pyrene)"
   ]
  },
  {
   "cell_type": "code",
   "execution_count": 12,
   "metadata": {
    "collapsed": false,
    "deletable": true,
    "editable": true
   },
   "outputs": [
    {
     "name": "stderr",
     "output_type": "stream",
     "text": [
      "/opt/conda/lib/python3.5/site-packages/traitlets/traitlets.py:565: FutureWarning: comparison to `None` will result in an elementwise object comparison in the future.\n",
      "  silent = bool(old_value == new_value)\n"
     ]
    }
   ],
   "source": [
    "# let's make an arginine box\n",
    "from chemlab.core import System\n",
    "from chemlab.notebook import display_system\n",
    "\n",
    "import numpy as np\n",
    "\n",
    "copies = []\n",
    "for i in range(100):\n",
    "    tmp = arg.copy()\n",
    "    tmp.r_array += np.random.random(3) * 3.0\n",
    "    copies.append(tmp)\n",
    "\n",
    "system = System(copies)\n",
    "\n",
    "display_system(system)"
   ]
  },
  {
   "cell_type": "code",
   "execution_count": 13,
   "metadata": {
    "collapsed": true,
    "deletable": true,
    "editable": true
   },
   "outputs": [],
   "source": [
    "from chemlab.notebook import load_remote_system, load_remote_trajectory, load_trajectory, display_trajectory"
   ]
  },
  {
   "cell_type": "code",
   "execution_count": null,
   "metadata": {
    "collapsed": true
   },
   "outputs": [],
   "source": []
  },
  {
   "cell_type": "code",
   "execution_count": null,
   "metadata": {
    "collapsed": true
   },
   "outputs": [],
   "source": []
  }
 ],
 "metadata": {
  "kernelspec": {
   "display_name": "Python 3",
   "language": "python",
   "name": "python3"
  },
  "language_info": {
   "codemirror_mode": {
    "name": "ipython",
    "version": 3
   },
   "file_extension": ".py",
   "mimetype": "text/x-python",
   "name": "python",
   "nbconvert_exporter": "python",
   "pygments_lexer": "ipython3",
   "version": "3.5.2"
  },
  "widgets": {
   "state": {
    "272d5697411c4c7a8c50c4165fdf7b81": {
     "views": [
      {
       "cell_index": 8
      }
     ]
    },
    "af09a3ae185740b08eebd7235d4c3f28": {
     "views": [
      {
       "cell_index": 12
      }
     ]
    },
    "cdcc80936b5c42e68d61abf61f3521af": {
     "views": [
      {
       "cell_index": 4
      }
     ]
    },
    "ea886d040a5941798266425ac24370ad": {
     "views": [
      {
       "cell_index": 11
      }
     ]
    }
   },
   "version": "1.2.0"
  }
 },
 "nbformat": 4,
 "nbformat_minor": 2
}
